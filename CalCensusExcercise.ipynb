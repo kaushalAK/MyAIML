{
 "cells": [
  {
   "cell_type": "code",
   "execution_count": 1,
   "metadata": {},
   "outputs": [],
   "source": [
    "import pandas as pd"
   ]
  },
  {
   "cell_type": "code",
   "execution_count": 2,
   "metadata": {},
   "outputs": [
    {
     "data": {
      "text/plain": [
       "'C:\\\\Users\\\\kaushaab\\\\MyAIML\\\\TensorFlow'"
      ]
     },
     "execution_count": 2,
     "metadata": {},
     "output_type": "execute_result"
    }
   ],
   "source": [
    "pwd"
   ]
  },
  {
   "cell_type": "code",
   "execution_count": 4,
   "metadata": {},
   "outputs": [],
   "source": [
    "census = pd.read_csv('C:\\\\Users\\\\kaushaab\\\\MyAIML\\\\TensorFlow\\\\data\\\\census_data.csv')"
   ]
  },
  {
   "cell_type": "code",
   "execution_count": 5,
   "metadata": {},
   "outputs": [
    {
     "data": {
      "text/html": [
       "<div>\n",
       "<style scoped>\n",
       "    .dataframe tbody tr th:only-of-type {\n",
       "        vertical-align: middle;\n",
       "    }\n",
       "\n",
       "    .dataframe tbody tr th {\n",
       "        vertical-align: top;\n",
       "    }\n",
       "\n",
       "    .dataframe thead th {\n",
       "        text-align: right;\n",
       "    }\n",
       "</style>\n",
       "<table border=\"1\" class=\"dataframe\">\n",
       "  <thead>\n",
       "    <tr style=\"text-align: right;\">\n",
       "      <th></th>\n",
       "      <th>age</th>\n",
       "      <th>workclass</th>\n",
       "      <th>education</th>\n",
       "      <th>education_num</th>\n",
       "      <th>marital_status</th>\n",
       "      <th>occupation</th>\n",
       "      <th>relationship</th>\n",
       "      <th>race</th>\n",
       "      <th>gender</th>\n",
       "      <th>capital_gain</th>\n",
       "      <th>capital_loss</th>\n",
       "      <th>hours_per_week</th>\n",
       "      <th>native_country</th>\n",
       "      <th>income_bracket</th>\n",
       "    </tr>\n",
       "  </thead>\n",
       "  <tbody>\n",
       "    <tr>\n",
       "      <th>0</th>\n",
       "      <td>39</td>\n",
       "      <td>State-gov</td>\n",
       "      <td>Bachelors</td>\n",
       "      <td>13</td>\n",
       "      <td>Never-married</td>\n",
       "      <td>Adm-clerical</td>\n",
       "      <td>Not-in-family</td>\n",
       "      <td>White</td>\n",
       "      <td>Male</td>\n",
       "      <td>2174</td>\n",
       "      <td>0</td>\n",
       "      <td>40</td>\n",
       "      <td>United-States</td>\n",
       "      <td>&lt;=50K</td>\n",
       "    </tr>\n",
       "    <tr>\n",
       "      <th>1</th>\n",
       "      <td>50</td>\n",
       "      <td>Self-emp-not-inc</td>\n",
       "      <td>Bachelors</td>\n",
       "      <td>13</td>\n",
       "      <td>Married-civ-spouse</td>\n",
       "      <td>Exec-managerial</td>\n",
       "      <td>Husband</td>\n",
       "      <td>White</td>\n",
       "      <td>Male</td>\n",
       "      <td>0</td>\n",
       "      <td>0</td>\n",
       "      <td>13</td>\n",
       "      <td>United-States</td>\n",
       "      <td>&lt;=50K</td>\n",
       "    </tr>\n",
       "    <tr>\n",
       "      <th>2</th>\n",
       "      <td>38</td>\n",
       "      <td>Private</td>\n",
       "      <td>HS-grad</td>\n",
       "      <td>9</td>\n",
       "      <td>Divorced</td>\n",
       "      <td>Handlers-cleaners</td>\n",
       "      <td>Not-in-family</td>\n",
       "      <td>White</td>\n",
       "      <td>Male</td>\n",
       "      <td>0</td>\n",
       "      <td>0</td>\n",
       "      <td>40</td>\n",
       "      <td>United-States</td>\n",
       "      <td>&lt;=50K</td>\n",
       "    </tr>\n",
       "    <tr>\n",
       "      <th>3</th>\n",
       "      <td>53</td>\n",
       "      <td>Private</td>\n",
       "      <td>11th</td>\n",
       "      <td>7</td>\n",
       "      <td>Married-civ-spouse</td>\n",
       "      <td>Handlers-cleaners</td>\n",
       "      <td>Husband</td>\n",
       "      <td>Black</td>\n",
       "      <td>Male</td>\n",
       "      <td>0</td>\n",
       "      <td>0</td>\n",
       "      <td>40</td>\n",
       "      <td>United-States</td>\n",
       "      <td>&lt;=50K</td>\n",
       "    </tr>\n",
       "    <tr>\n",
       "      <th>4</th>\n",
       "      <td>28</td>\n",
       "      <td>Private</td>\n",
       "      <td>Bachelors</td>\n",
       "      <td>13</td>\n",
       "      <td>Married-civ-spouse</td>\n",
       "      <td>Prof-specialty</td>\n",
       "      <td>Wife</td>\n",
       "      <td>Black</td>\n",
       "      <td>Female</td>\n",
       "      <td>0</td>\n",
       "      <td>0</td>\n",
       "      <td>40</td>\n",
       "      <td>Cuba</td>\n",
       "      <td>&lt;=50K</td>\n",
       "    </tr>\n",
       "  </tbody>\n",
       "</table>\n",
       "</div>"
      ],
      "text/plain": [
       "   age          workclass   education  education_num       marital_status  \\\n",
       "0   39          State-gov   Bachelors             13        Never-married   \n",
       "1   50   Self-emp-not-inc   Bachelors             13   Married-civ-spouse   \n",
       "2   38            Private     HS-grad              9             Divorced   \n",
       "3   53            Private        11th              7   Married-civ-spouse   \n",
       "4   28            Private   Bachelors             13   Married-civ-spouse   \n",
       "\n",
       "           occupation    relationship    race   gender  capital_gain  \\\n",
       "0        Adm-clerical   Not-in-family   White     Male          2174   \n",
       "1     Exec-managerial         Husband   White     Male             0   \n",
       "2   Handlers-cleaners   Not-in-family   White     Male             0   \n",
       "3   Handlers-cleaners         Husband   Black     Male             0   \n",
       "4      Prof-specialty            Wife   Black   Female             0   \n",
       "\n",
       "   capital_loss  hours_per_week  native_country income_bracket  \n",
       "0             0              40   United-States          <=50K  \n",
       "1             0              13   United-States          <=50K  \n",
       "2             0              40   United-States          <=50K  \n",
       "3             0              40   United-States          <=50K  \n",
       "4             0              40            Cuba          <=50K  "
      ]
     },
     "execution_count": 5,
     "metadata": {},
     "output_type": "execute_result"
    }
   ],
   "source": [
    "census.head()"
   ]
  },
  {
   "cell_type": "code",
   "execution_count": 6,
   "metadata": {},
   "outputs": [],
   "source": [
    "#unique values inside a column"
   ]
  },
  {
   "cell_type": "code",
   "execution_count": 7,
   "metadata": {},
   "outputs": [
    {
     "data": {
      "text/plain": [
       "array([' <=50K', ' >50K'], dtype=object)"
      ]
     },
     "execution_count": 7,
     "metadata": {},
     "output_type": "execute_result"
    }
   ],
   "source": [
    "census['income_bracket'].unique()"
   ]
  },
  {
   "cell_type": "code",
   "execution_count": 10,
   "metadata": {},
   "outputs": [],
   "source": [
    "def label_fix(label):\n",
    "    if label == ' <=50K':\n",
    "        return 0\n",
    "    else:\n",
    "        return 1\n",
    "    "
   ]
  },
  {
   "cell_type": "code",
   "execution_count": 11,
   "metadata": {},
   "outputs": [],
   "source": [
    "census['income_bracket'] = census['income_bracket'].apply(label_fix)"
   ]
  },
  {
   "cell_type": "code",
   "execution_count": 12,
   "metadata": {},
   "outputs": [],
   "source": [
    "from sklearn.model_selection import train_test_split"
   ]
  },
  {
   "cell_type": "code",
   "execution_count": 13,
   "metadata": {},
   "outputs": [],
   "source": [
    "x_data = census.drop('income_bracket',axis=1)"
   ]
  },
  {
   "cell_type": "code",
   "execution_count": 14,
   "metadata": {},
   "outputs": [],
   "source": [
    "y_label = census['income_bracket']"
   ]
  },
  {
   "cell_type": "code",
   "execution_count": 15,
   "metadata": {},
   "outputs": [],
   "source": [
    "X_train, X_test, y_train, y_test = train_test_split(x_data,y_label, test_size =0.3,random_state = 1001)"
   ]
  },
  {
   "cell_type": "code",
   "execution_count": 16,
   "metadata": {},
   "outputs": [
    {
     "data": {
      "text/plain": [
       "Index(['age', 'workclass', 'education', 'education_num', 'marital_status',\n",
       "       'occupation', 'relationship', 'race', 'gender', 'capital_gain',\n",
       "       'capital_loss', 'hours_per_week', 'native_country', 'income_bracket'],\n",
       "      dtype='object')"
      ]
     },
     "execution_count": 16,
     "metadata": {},
     "output_type": "execute_result"
    }
   ],
   "source": [
    "census.columns"
   ]
  },
  {
   "cell_type": "code",
   "execution_count": 18,
   "metadata": {},
   "outputs": [],
   "source": [
    "import tensorflow as tf"
   ]
  },
  {
   "cell_type": "code",
   "execution_count": 19,
   "metadata": {},
   "outputs": [],
   "source": [
    "gender = tf.feature_column.categorical_column_with_vocabulary_list(\"gender\", [\"Female\", \"Male\"])\n",
    "occupation = tf.feature_column.categorical_column_with_hash_bucket(\"occupation\", hash_bucket_size=1000)\n",
    "marital_status = tf.feature_column.categorical_column_with_hash_bucket(\"marital_status\", hash_bucket_size=1000)\n",
    "relationship = tf.feature_column.categorical_column_with_hash_bucket(\"relationship\", hash_bucket_size=1000)\n",
    "education = tf.feature_column.categorical_column_with_hash_bucket(\"education\", hash_bucket_size=1000)\n",
    "workclass = tf.feature_column.categorical_column_with_hash_bucket(\"workclass\", hash_bucket_size=1000)\n",
    "native_country = tf.feature_column.categorical_column_with_hash_bucket(\"native_country\", hash_bucket_size=1000)"
   ]
  },
  {
   "cell_type": "code",
   "execution_count": 21,
   "metadata": {},
   "outputs": [],
   "source": [
    "age = tf.feature_column.numeric_column(\"age\")\n",
    "education_num = tf.feature_column.numeric_column(\"education_num\")\n",
    "capital_gain = tf.feature_column.numeric_column(\"capital_gain\")\n",
    "capital_loss = tf.feature_column.numeric_column(\"capital_loss\")\n",
    "hours_per_week = tf.feature_column.numeric_column(\"hours_per_week\")"
   ]
  },
  {
   "cell_type": "code",
   "execution_count": 22,
   "metadata": {},
   "outputs": [],
   "source": [
    "feat_cols = [gender,occupation,marital_status,relationship,education,workclass,native_country,\n",
    "            age,education_num,capital_gain,capital_loss,hours_per_week]"
   ]
  },
  {
   "cell_type": "code",
   "execution_count": 23,
   "metadata": {},
   "outputs": [],
   "source": [
    "input_func=tf.estimator.inputs.pandas_input_fn(x=X_train,y=y_train,batch_size=100,num_epochs=None,shuffle=True)"
   ]
  },
  {
   "cell_type": "code",
   "execution_count": 24,
   "metadata": {},
   "outputs": [
    {
     "name": "stdout",
     "output_type": "stream",
     "text": [
      "INFO:tensorflow:Using default config.\n",
      "WARNING:tensorflow:Using temporary folder as model directory: C:\\Users\\kaushaab\\AppData\\Local\\Temp\\tmpcpzzsrlb\n",
      "INFO:tensorflow:Using config: {'_model_dir': 'C:\\\\Users\\\\kaushaab\\\\AppData\\\\Local\\\\Temp\\\\tmpcpzzsrlb', '_tf_random_seed': None, '_save_summary_steps': 100, '_save_checkpoints_steps': None, '_save_checkpoints_secs': 600, '_session_config': allow_soft_placement: true\n",
      "graph_options {\n",
      "  rewrite_options {\n",
      "    meta_optimizer_iterations: ONE\n",
      "  }\n",
      "}\n",
      ", '_keep_checkpoint_max': 5, '_keep_checkpoint_every_n_hours': 10000, '_log_step_count_steps': 100, '_train_distribute': None, '_device_fn': None, '_protocol': None, '_eval_distribute': None, '_experimental_distribute': None, '_service': None, '_cluster_spec': <tensorflow.python.training.server_lib.ClusterSpec object at 0x0000021E669A5860>, '_task_type': 'worker', '_task_id': 0, '_global_id_in_cluster': 0, '_master': '', '_evaluation_master': '', '_is_chief': True, '_num_ps_replicas': 0, '_num_worker_replicas': 1}\n"
     ]
    }
   ],
   "source": [
    "model = tf.estimator.LinearClassifier(feature_columns=feat_cols)"
   ]
  },
  {
   "cell_type": "code",
   "execution_count": 25,
   "metadata": {
    "scrolled": true
   },
   "outputs": [
    {
     "name": "stdout",
     "output_type": "stream",
     "text": [
      "WARNING:tensorflow:From C:\\Users\\kaushaab\\AppData\\Local\\Programs\\Python\\Python36\\lib\\site-packages\\tensorflow\\python\\estimator\\inputs\\queues\\feeding_queue_runner.py:62: QueueRunner.__init__ (from tensorflow.python.training.queue_runner_impl) is deprecated and will be removed in a future version.\n",
      "Instructions for updating:\n",
      "To construct input pipelines, use the `tf.data` module.\n",
      "WARNING:tensorflow:From C:\\Users\\kaushaab\\AppData\\Local\\Programs\\Python\\Python36\\lib\\site-packages\\tensorflow\\python\\estimator\\inputs\\queues\\feeding_functions.py:500: add_queue_runner (from tensorflow.python.training.queue_runner_impl) is deprecated and will be removed in a future version.\n",
      "Instructions for updating:\n",
      "To construct input pipelines, use the `tf.data` module.\n",
      "INFO:tensorflow:Calling model_fn.\n",
      "INFO:tensorflow:Done calling model_fn.\n",
      "INFO:tensorflow:Create CheckpointSaverHook.\n",
      "INFO:tensorflow:Graph was finalized.\n",
      "INFO:tensorflow:Running local_init_op.\n",
      "INFO:tensorflow:Done running local_init_op.\n",
      "WARNING:tensorflow:From C:\\Users\\kaushaab\\AppData\\Local\\Programs\\Python\\Python36\\lib\\site-packages\\tensorflow\\python\\training\\monitored_session.py:804: start_queue_runners (from tensorflow.python.training.queue_runner_impl) is deprecated and will be removed in a future version.\n",
      "Instructions for updating:\n",
      "To construct input pipelines, use the `tf.data` module.\n",
      "INFO:tensorflow:Saving checkpoints for 0 into C:\\Users\\kaushaab\\AppData\\Local\\Temp\\tmpcpzzsrlb\\model.ckpt.\n",
      "INFO:tensorflow:loss = 69.31472, step = 1\n",
      "INFO:tensorflow:global_step/sec: 115.62\n",
      "INFO:tensorflow:loss = 249.94818, step = 101 (0.869 sec)\n",
      "INFO:tensorflow:global_step/sec: 235.208\n",
      "INFO:tensorflow:loss = 27.502102, step = 201 (0.425 sec)\n",
      "INFO:tensorflow:global_step/sec: 249.251\n",
      "INFO:tensorflow:loss = 185.40425, step = 301 (0.420 sec)\n",
      "INFO:tensorflow:global_step/sec: 239.633\n",
      "INFO:tensorflow:loss = 144.29694, step = 401 (0.409 sec)\n",
      "INFO:tensorflow:global_step/sec: 209.673\n",
      "INFO:tensorflow:loss = 154.39209, step = 501 (0.466 sec)\n",
      "INFO:tensorflow:global_step/sec: 229.975\n",
      "INFO:tensorflow:loss = 97.74256, step = 601 (0.437 sec)\n",
      "INFO:tensorflow:global_step/sec: 240.468\n",
      "INFO:tensorflow:loss = 37.53966, step = 701 (0.409 sec)\n",
      "INFO:tensorflow:global_step/sec: 245.407\n",
      "INFO:tensorflow:loss = 145.8053, step = 801 (0.407 sec)\n",
      "INFO:tensorflow:global_step/sec: 191.615\n",
      "INFO:tensorflow:loss = 96.06159, step = 901 (0.530 sec)\n",
      "INFO:tensorflow:global_step/sec: 246.3\n",
      "INFO:tensorflow:loss = 170.83255, step = 1001 (0.414 sec)\n",
      "INFO:tensorflow:global_step/sec: 210.243\n",
      "INFO:tensorflow:loss = 48.060734, step = 1101 (0.466 sec)\n",
      "INFO:tensorflow:global_step/sec: 207.163\n",
      "INFO:tensorflow:loss = 48.18123, step = 1201 (0.481 sec)\n",
      "INFO:tensorflow:global_step/sec: 251.145\n",
      "INFO:tensorflow:loss = 117.04036, step = 1301 (0.412 sec)\n",
      "INFO:tensorflow:global_step/sec: 235.315\n",
      "INFO:tensorflow:loss = 92.70251, step = 1401 (0.410 sec)\n",
      "INFO:tensorflow:global_step/sec: 251.266\n",
      "INFO:tensorflow:loss = 41.36064, step = 1501 (0.410 sec)\n",
      "INFO:tensorflow:global_step/sec: 242.163\n",
      "INFO:tensorflow:loss = 275.30347, step = 1601 (0.413 sec)\n",
      "INFO:tensorflow:global_step/sec: 248.02\n",
      "INFO:tensorflow:loss = 62.317997, step = 1701 (0.403 sec)\n",
      "INFO:tensorflow:global_step/sec: 222.855\n",
      "INFO:tensorflow:loss = 574.41345, step = 1801 (0.433 sec)\n",
      "INFO:tensorflow:global_step/sec: 208.274\n",
      "INFO:tensorflow:loss = 51.62506, step = 1901 (0.486 sec)\n",
      "INFO:tensorflow:global_step/sec: 207.612\n",
      "INFO:tensorflow:loss = 121.14159, step = 2001 (0.476 sec)\n",
      "INFO:tensorflow:global_step/sec: 241.674\n",
      "INFO:tensorflow:loss = 37.30467, step = 2101 (0.414 sec)\n",
      "INFO:tensorflow:global_step/sec: 248.464\n",
      "INFO:tensorflow:loss = 210.70406, step = 2201 (0.402 sec)\n",
      "INFO:tensorflow:global_step/sec: 232.981\n",
      "INFO:tensorflow:loss = 47.570534, step = 2301 (0.435 sec)\n",
      "INFO:tensorflow:global_step/sec: 231.957\n",
      "INFO:tensorflow:loss = 80.46152, step = 2401 (0.431 sec)\n",
      "INFO:tensorflow:global_step/sec: 234.061\n",
      "INFO:tensorflow:loss = 114.39183, step = 2501 (0.421 sec)\n",
      "INFO:tensorflow:global_step/sec: 206.33\n",
      "INFO:tensorflow:loss = 85.24568, step = 2601 (0.490 sec)\n",
      "INFO:tensorflow:global_step/sec: 204.628\n",
      "INFO:tensorflow:loss = 183.69562, step = 2701 (0.490 sec)\n",
      "INFO:tensorflow:global_step/sec: 235.361\n",
      "INFO:tensorflow:loss = 308.63516, step = 2801 (0.419 sec)\n",
      "INFO:tensorflow:global_step/sec: 235.11\n",
      "INFO:tensorflow:loss = 113.72953, step = 2901 (0.432 sec)\n",
      "INFO:tensorflow:global_step/sec: 230.823\n",
      "INFO:tensorflow:loss = 89.13356, step = 3001 (0.442 sec)\n",
      "INFO:tensorflow:global_step/sec: 247.046\n",
      "INFO:tensorflow:loss = 77.84088, step = 3101 (0.405 sec)\n",
      "INFO:tensorflow:global_step/sec: 240.965\n",
      "INFO:tensorflow:loss = 80.76418, step = 3201 (0.399 sec)\n",
      "INFO:tensorflow:global_step/sec: 230.659\n",
      "INFO:tensorflow:loss = 76.37666, step = 3301 (0.440 sec)\n",
      "INFO:tensorflow:global_step/sec: 239.687\n",
      "INFO:tensorflow:loss = 35.508987, step = 3401 (0.411 sec)\n",
      "INFO:tensorflow:global_step/sec: 253.709\n",
      "INFO:tensorflow:loss = 18.841728, step = 3501 (0.410 sec)\n",
      "INFO:tensorflow:global_step/sec: 235.541\n",
      "INFO:tensorflow:loss = 45.83758, step = 3601 (0.415 sec)\n",
      "INFO:tensorflow:global_step/sec: 253.718\n",
      "INFO:tensorflow:loss = 122.20304, step = 3701 (0.388 sec)\n",
      "INFO:tensorflow:global_step/sec: 258.954\n",
      "INFO:tensorflow:loss = 44.596024, step = 3801 (0.402 sec)\n",
      "INFO:tensorflow:global_step/sec: 241.323\n",
      "INFO:tensorflow:loss = 114.60844, step = 3901 (0.399 sec)\n",
      "INFO:tensorflow:global_step/sec: 257.628\n",
      "INFO:tensorflow:loss = 107.26345, step = 4001 (0.404 sec)\n",
      "INFO:tensorflow:global_step/sec: 242.418\n",
      "INFO:tensorflow:loss = 34.412426, step = 4101 (0.397 sec)\n",
      "INFO:tensorflow:global_step/sec: 250.057\n",
      "INFO:tensorflow:loss = 32.91813, step = 4201 (0.400 sec)\n",
      "INFO:tensorflow:global_step/sec: 250.262\n",
      "INFO:tensorflow:loss = 55.168663, step = 4301 (0.400 sec)\n",
      "INFO:tensorflow:global_step/sec: 250.578\n",
      "INFO:tensorflow:loss = 132.60829, step = 4401 (0.399 sec)\n",
      "INFO:tensorflow:global_step/sec: 241.202\n",
      "INFO:tensorflow:loss = 54.148224, step = 4501 (0.415 sec)\n",
      "INFO:tensorflow:global_step/sec: 249.247\n",
      "INFO:tensorflow:loss = 88.260666, step = 4601 (0.401 sec)\n",
      "INFO:tensorflow:global_step/sec: 193.126\n",
      "INFO:tensorflow:loss = 28.055864, step = 4701 (0.518 sec)\n",
      "INFO:tensorflow:global_step/sec: 235.149\n",
      "INFO:tensorflow:loss = 44.08417, step = 4801 (0.430 sec)\n",
      "INFO:tensorflow:global_step/sec: 170.813\n",
      "INFO:tensorflow:loss = 24.608627, step = 4901 (0.585 sec)\n",
      "INFO:tensorflow:Saving checkpoints for 5000 into C:\\Users\\kaushaab\\AppData\\Local\\Temp\\tmpcpzzsrlb\\model.ckpt.\n",
      "INFO:tensorflow:Loss for final step: 44.768127.\n"
     ]
    },
    {
     "data": {
      "text/plain": [
       "<tensorflow.python.estimator.canned.linear.LinearClassifier at 0x21e669a5518>"
      ]
     },
     "execution_count": 25,
     "metadata": {},
     "output_type": "execute_result"
    }
   ],
   "source": [
    "model.train(input_fn=input_func,steps=5000)"
   ]
  },
  {
   "cell_type": "code",
   "execution_count": 26,
   "metadata": {},
   "outputs": [],
   "source": [
    "pred_fn = tf.estimator.inputs.pandas_input_fn(x=X_test,batch_size=len(X_test),shuffle=False)"
   ]
  },
  {
   "cell_type": "code",
   "execution_count": 27,
   "metadata": {},
   "outputs": [
    {
     "name": "stdout",
     "output_type": "stream",
     "text": [
      "INFO:tensorflow:Calling model_fn.\n",
      "INFO:tensorflow:Done calling model_fn.\n",
      "INFO:tensorflow:Graph was finalized.\n",
      "INFO:tensorflow:Restoring parameters from C:\\Users\\kaushaab\\AppData\\Local\\Temp\\tmpcpzzsrlb\\model.ckpt-5000\n",
      "INFO:tensorflow:Running local_init_op.\n",
      "INFO:tensorflow:Done running local_init_op.\n"
     ]
    }
   ],
   "source": [
    "predictions = list(model.predict(input_fn=pred_fn))"
   ]
  },
  {
   "cell_type": "code",
   "execution_count": 28,
   "metadata": {},
   "outputs": [
    {
     "data": {
      "text/plain": [
       "{'logits': array([-7.3051934], dtype=float32),\n",
       " 'logistic': array([0.00067159], dtype=float32),\n",
       " 'probabilities': array([9.9932849e-01, 6.7158823e-04], dtype=float32),\n",
       " 'class_ids': array([0], dtype=int64),\n",
       " 'classes': array([b'0'], dtype=object)}"
      ]
     },
     "execution_count": 28,
     "metadata": {},
     "output_type": "execute_result"
    }
   ],
   "source": [
    "predictions[0]"
   ]
  },
  {
   "cell_type": "code",
   "execution_count": 29,
   "metadata": {},
   "outputs": [],
   "source": [
    "final_preds = []\n",
    "for pred in predictions:\n",
    "    final_preds.append(pred['class_ids'][0])"
   ]
  },
  {
   "cell_type": "code",
   "execution_count": 30,
   "metadata": {},
   "outputs": [
    {
     "data": {
      "text/plain": [
       "[0, 0, 0, 0, 0, 0, 0, 1, 1, 0]"
      ]
     },
     "execution_count": 30,
     "metadata": {},
     "output_type": "execute_result"
    }
   ],
   "source": [
    "final_preds[:10]"
   ]
  },
  {
   "cell_type": "code",
   "execution_count": 31,
   "metadata": {},
   "outputs": [],
   "source": [
    "from sklearn.metrics import classification_report"
   ]
  },
  {
   "cell_type": "code",
   "execution_count": 32,
   "metadata": {},
   "outputs": [
    {
     "name": "stdout",
     "output_type": "stream",
     "text": [
      "              precision    recall  f1-score   support\n",
      "\n",
      "           0       0.90      0.90      0.90      7376\n",
      "           1       0.68      0.69      0.68      2393\n",
      "\n",
      "   micro avg       0.84      0.84      0.84      9769\n",
      "   macro avg       0.79      0.79      0.79      9769\n",
      "weighted avg       0.84      0.84      0.84      9769\n",
      "\n"
     ]
    }
   ],
   "source": [
    "print(classification_report(y_test,final_preds))"
   ]
  },
  {
   "cell_type": "code",
   "execution_count": null,
   "metadata": {},
   "outputs": [],
   "source": []
  }
 ],
 "metadata": {
  "kernelspec": {
   "display_name": "Python 3",
   "language": "python",
   "name": "python3"
  },
  "language_info": {
   "codemirror_mode": {
    "name": "ipython",
    "version": 3
   },
   "file_extension": ".py",
   "mimetype": "text/x-python",
   "name": "python",
   "nbconvert_exporter": "python",
   "pygments_lexer": "ipython3",
   "version": "3.6.7"
  }
 },
 "nbformat": 4,
 "nbformat_minor": 2
}
