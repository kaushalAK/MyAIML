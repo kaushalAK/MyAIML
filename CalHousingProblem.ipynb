{
 "cells": [
  {
   "cell_type": "code",
   "execution_count": 5,
   "metadata": {},
   "outputs": [],
   "source": [
    "import pandas as pd"
   ]
  },
  {
   "cell_type": "code",
   "execution_count": 6,
   "metadata": {},
   "outputs": [],
   "source": [
    "housing_data = pd.read_csv(\"C:\\\\Users\\\\kaushaab\\\\MyAIML\\\\TensorFlow\\\\data\\\\cal_housing_clean.csv\")"
   ]
  },
  {
   "cell_type": "code",
   "execution_count": 7,
   "metadata": {},
   "outputs": [
    {
     "data": {
      "text/html": [
       "<div>\n",
       "<style scoped>\n",
       "    .dataframe tbody tr th:only-of-type {\n",
       "        vertical-align: middle;\n",
       "    }\n",
       "\n",
       "    .dataframe tbody tr th {\n",
       "        vertical-align: top;\n",
       "    }\n",
       "\n",
       "    .dataframe thead th {\n",
       "        text-align: right;\n",
       "    }\n",
       "</style>\n",
       "<table border=\"1\" class=\"dataframe\">\n",
       "  <thead>\n",
       "    <tr style=\"text-align: right;\">\n",
       "      <th></th>\n",
       "      <th>housingMedianAge</th>\n",
       "      <th>totalRooms</th>\n",
       "      <th>totalBedrooms</th>\n",
       "      <th>population</th>\n",
       "      <th>households</th>\n",
       "      <th>medianIncome</th>\n",
       "      <th>medianHouseValue</th>\n",
       "    </tr>\n",
       "  </thead>\n",
       "  <tbody>\n",
       "    <tr>\n",
       "      <th>0</th>\n",
       "      <td>41.0</td>\n",
       "      <td>880.0</td>\n",
       "      <td>129.0</td>\n",
       "      <td>322.0</td>\n",
       "      <td>126.0</td>\n",
       "      <td>8.3252</td>\n",
       "      <td>452600.0</td>\n",
       "    </tr>\n",
       "    <tr>\n",
       "      <th>1</th>\n",
       "      <td>21.0</td>\n",
       "      <td>7099.0</td>\n",
       "      <td>1106.0</td>\n",
       "      <td>2401.0</td>\n",
       "      <td>1138.0</td>\n",
       "      <td>8.3014</td>\n",
       "      <td>358500.0</td>\n",
       "    </tr>\n",
       "    <tr>\n",
       "      <th>2</th>\n",
       "      <td>52.0</td>\n",
       "      <td>1467.0</td>\n",
       "      <td>190.0</td>\n",
       "      <td>496.0</td>\n",
       "      <td>177.0</td>\n",
       "      <td>7.2574</td>\n",
       "      <td>352100.0</td>\n",
       "    </tr>\n",
       "    <tr>\n",
       "      <th>3</th>\n",
       "      <td>52.0</td>\n",
       "      <td>1274.0</td>\n",
       "      <td>235.0</td>\n",
       "      <td>558.0</td>\n",
       "      <td>219.0</td>\n",
       "      <td>5.6431</td>\n",
       "      <td>341300.0</td>\n",
       "    </tr>\n",
       "    <tr>\n",
       "      <th>4</th>\n",
       "      <td>52.0</td>\n",
       "      <td>1627.0</td>\n",
       "      <td>280.0</td>\n",
       "      <td>565.0</td>\n",
       "      <td>259.0</td>\n",
       "      <td>3.8462</td>\n",
       "      <td>342200.0</td>\n",
       "    </tr>\n",
       "  </tbody>\n",
       "</table>\n",
       "</div>"
      ],
      "text/plain": [
       "   housingMedianAge  totalRooms  totalBedrooms  population  households  \\\n",
       "0              41.0       880.0          129.0       322.0       126.0   \n",
       "1              21.0      7099.0         1106.0      2401.0      1138.0   \n",
       "2              52.0      1467.0          190.0       496.0       177.0   \n",
       "3              52.0      1274.0          235.0       558.0       219.0   \n",
       "4              52.0      1627.0          280.0       565.0       259.0   \n",
       "\n",
       "   medianIncome  medianHouseValue  \n",
       "0        8.3252          452600.0  \n",
       "1        8.3014          358500.0  \n",
       "2        7.2574          352100.0  \n",
       "3        5.6431          341300.0  \n",
       "4        3.8462          342200.0  "
      ]
     },
     "execution_count": 7,
     "metadata": {},
     "output_type": "execute_result"
    }
   ],
   "source": [
    "housing_data.head()"
   ]
  },
  {
   "cell_type": "code",
   "execution_count": 8,
   "metadata": {},
   "outputs": [],
   "source": [
    "y_value = housing_data['medianHouseValue']"
   ]
  },
  {
   "cell_type": "code",
   "execution_count": 9,
   "metadata": {},
   "outputs": [],
   "source": [
    "x_data = housing_data.drop('medianHouseValue',axis=1)"
   ]
  },
  {
   "cell_type": "code",
   "execution_count": 10,
   "metadata": {},
   "outputs": [],
   "source": [
    "from sklearn.model_selection import train_test_split"
   ]
  },
  {
   "cell_type": "code",
   "execution_count": 11,
   "metadata": {},
   "outputs": [],
   "source": [
    "x_train, x_test,y_train,y_test = train_test_split(x_data,y_value,test_size = 0.3,random_state = 101)"
   ]
  },
  {
   "cell_type": "markdown",
   "metadata": {},
   "source": [
    "# data preprocessing"
   ]
  },
  {
   "cell_type": "code",
   "execution_count": 12,
   "metadata": {},
   "outputs": [],
   "source": [
    "from sklearn.preprocessing import MinMaxScaler"
   ]
  },
  {
   "cell_type": "code",
   "execution_count": 13,
   "metadata": {},
   "outputs": [],
   "source": [
    "scaler = MinMaxScaler()"
   ]
  },
  {
   "cell_type": "code",
   "execution_count": 14,
   "metadata": {},
   "outputs": [
    {
     "data": {
      "text/plain": [
       "MinMaxScaler(copy=True, feature_range=(0, 1))"
      ]
     },
     "execution_count": 14,
     "metadata": {},
     "output_type": "execute_result"
    }
   ],
   "source": [
    "scaler.fit(x_train)"
   ]
  },
  {
   "cell_type": "code",
   "execution_count": 15,
   "metadata": {},
   "outputs": [],
   "source": [
    "x_train = pd.DataFrame(data=scaler.transform(x_train),columns=x_train.columns,index=x_train.index)"
   ]
  },
  {
   "cell_type": "code",
   "execution_count": 16,
   "metadata": {},
   "outputs": [],
   "source": [
    "x_test = pd.DataFrame(data=scaler.transform(x_test),columns=x_test.columns,index=x_test.index)"
   ]
  },
  {
   "cell_type": "code",
   "execution_count": 17,
   "metadata": {},
   "outputs": [],
   "source": [
    "# creating feature columns"
   ]
  },
  {
   "cell_type": "code",
   "execution_count": 18,
   "metadata": {},
   "outputs": [
    {
     "data": {
      "text/plain": [
       "Index(['housingMedianAge', 'totalRooms', 'totalBedrooms', 'population',\n",
       "       'households', 'medianIncome', 'medianHouseValue'],\n",
       "      dtype='object')"
      ]
     },
     "execution_count": 18,
     "metadata": {},
     "output_type": "execute_result"
    }
   ],
   "source": [
    "housing_data.columns"
   ]
  },
  {
   "cell_type": "code",
   "execution_count": 19,
   "metadata": {},
   "outputs": [],
   "source": [
    "import tensorflow as tf"
   ]
  },
  {
   "cell_type": "code",
   "execution_count": 20,
   "metadata": {},
   "outputs": [],
   "source": [
    "age = tf.feature_column.numeric_column('housingMedianAge')\n",
    "rooms = tf.feature_column.numeric_column('totalRooms')\n",
    "bedrooms = tf.feature_column.numeric_column('totalBedrooms')\n",
    "pop = tf.feature_column.numeric_column('population')\n",
    "households = tf.feature_column.numeric_column('households')\n",
    "income = tf.feature_column.numeric_column('medianIncome')"
   ]
  },
  {
   "cell_type": "code",
   "execution_count": 21,
   "metadata": {},
   "outputs": [],
   "source": [
    "feat_cols = [ age,rooms,bedrooms,pop,households,income]"
   ]
  },
  {
   "cell_type": "code",
   "execution_count": 22,
   "metadata": {},
   "outputs": [],
   "source": [
    "input_func = tf.estimator.inputs.pandas_input_fn(x_train,y_train,batch_size=10,num_epochs=1000,shuffle=True)"
   ]
  },
  {
   "cell_type": "code",
   "execution_count": 23,
   "metadata": {},
   "outputs": [
    {
     "name": "stdout",
     "output_type": "stream",
     "text": [
      "INFO:tensorflow:Using default config.\n",
      "WARNING:tensorflow:Using temporary folder as model directory: C:\\Users\\kaushaab\\AppData\\Local\\Temp\\tmpu09j02dj\n",
      "INFO:tensorflow:Using config: {'_model_dir': 'C:\\\\Users\\\\kaushaab\\\\AppData\\\\Local\\\\Temp\\\\tmpu09j02dj', '_tf_random_seed': None, '_save_summary_steps': 100, '_save_checkpoints_steps': None, '_save_checkpoints_secs': 600, '_session_config': allow_soft_placement: true\n",
      "graph_options {\n",
      "  rewrite_options {\n",
      "    meta_optimizer_iterations: ONE\n",
      "  }\n",
      "}\n",
      ", '_keep_checkpoint_max': 5, '_keep_checkpoint_every_n_hours': 10000, '_log_step_count_steps': 100, '_train_distribute': None, '_device_fn': None, '_protocol': None, '_eval_distribute': None, '_experimental_distribute': None, '_service': None, '_cluster_spec': <tensorflow.python.training.server_lib.ClusterSpec object at 0x0000021437DD75F8>, '_task_type': 'worker', '_task_id': 0, '_global_id_in_cluster': 0, '_master': '', '_evaluation_master': '', '_is_chief': True, '_num_ps_replicas': 0, '_num_worker_replicas': 1}\n"
     ]
    }
   ],
   "source": [
    "model = tf.estimator.DNNRegressor(hidden_units=[6,6,6],feature_columns=feat_cols)"
   ]
  },
  {
   "cell_type": "code",
   "execution_count": 24,
   "metadata": {},
   "outputs": [
    {
     "name": "stdout",
     "output_type": "stream",
     "text": [
      "WARNING:tensorflow:From C:\\Users\\kaushaab\\AppData\\Local\\Programs\\Python\\Python36\\lib\\site-packages\\tensorflow\\python\\estimator\\inputs\\queues\\feeding_queue_runner.py:62: QueueRunner.__init__ (from tensorflow.python.training.queue_runner_impl) is deprecated and will be removed in a future version.\n",
      "Instructions for updating:\n",
      "To construct input pipelines, use the `tf.data` module.\n",
      "WARNING:tensorflow:From C:\\Users\\kaushaab\\AppData\\Local\\Programs\\Python\\Python36\\lib\\site-packages\\tensorflow\\python\\estimator\\inputs\\queues\\feeding_functions.py:500: add_queue_runner (from tensorflow.python.training.queue_runner_impl) is deprecated and will be removed in a future version.\n",
      "Instructions for updating:\n",
      "To construct input pipelines, use the `tf.data` module.\n",
      "INFO:tensorflow:Calling model_fn.\n",
      "INFO:tensorflow:Done calling model_fn.\n",
      "INFO:tensorflow:Create CheckpointSaverHook.\n",
      "INFO:tensorflow:Graph was finalized.\n",
      "INFO:tensorflow:Running local_init_op.\n",
      "INFO:tensorflow:Done running local_init_op.\n",
      "WARNING:tensorflow:From C:\\Users\\kaushaab\\AppData\\Local\\Programs\\Python\\Python36\\lib\\site-packages\\tensorflow\\python\\training\\monitored_session.py:804: start_queue_runners (from tensorflow.python.training.queue_runner_impl) is deprecated and will be removed in a future version.\n",
      "Instructions for updating:\n",
      "To construct input pipelines, use the `tf.data` module.\n",
      "INFO:tensorflow:Saving checkpoints for 0 into C:\\Users\\kaushaab\\AppData\\Local\\Temp\\tmpu09j02dj\\model.ckpt.\n",
      "INFO:tensorflow:loss = 451404800000.0, step = 1\n",
      "INFO:tensorflow:global_step/sec: 207.373\n",
      "INFO:tensorflow:loss = 330730500000.0, step = 101 (0.492 sec)\n",
      "INFO:tensorflow:global_step/sec: 321.371\n",
      "INFO:tensorflow:loss = 418746100000.0, step = 201 (0.310 sec)\n",
      "INFO:tensorflow:global_step/sec: 339.55\n",
      "INFO:tensorflow:loss = 147113790000.0, step = 301 (0.293 sec)\n",
      "INFO:tensorflow:global_step/sec: 338.028\n",
      "INFO:tensorflow:loss = 550648400000.0, step = 401 (0.293 sec)\n",
      "INFO:tensorflow:global_step/sec: 360.97\n",
      "INFO:tensorflow:loss = 858977500000.0, step = 501 (0.278 sec)\n",
      "INFO:tensorflow:global_step/sec: 348.161\n",
      "INFO:tensorflow:loss = 301587960000.0, step = 601 (0.283 sec)\n",
      "INFO:tensorflow:global_step/sec: 384.168\n",
      "INFO:tensorflow:loss = 228053190000.0, step = 701 (0.264 sec)\n",
      "INFO:tensorflow:global_step/sec: 348.44\n",
      "INFO:tensorflow:loss = 143267900000.0, step = 801 (0.284 sec)\n",
      "INFO:tensorflow:global_step/sec: 358.681\n",
      "INFO:tensorflow:loss = 293499080000.0, step = 901 (0.285 sec)\n",
      "INFO:tensorflow:global_step/sec: 345.758\n",
      "INFO:tensorflow:loss = 197823040000.0, step = 1001 (0.285 sec)\n",
      "INFO:tensorflow:global_step/sec: 323.592\n",
      "INFO:tensorflow:loss = 252524680000.0, step = 1101 (0.313 sec)\n",
      "INFO:tensorflow:global_step/sec: 374.131\n",
      "INFO:tensorflow:loss = 44928266000.0, step = 1201 (0.268 sec)\n",
      "INFO:tensorflow:global_step/sec: 358.336\n",
      "INFO:tensorflow:loss = 94776390000.0, step = 1301 (0.279 sec)\n",
      "INFO:tensorflow:global_step/sec: 272.052\n",
      "INFO:tensorflow:loss = 82535330000.0, step = 1401 (0.371 sec)\n",
      "INFO:tensorflow:global_step/sec: 262.109\n",
      "INFO:tensorflow:loss = 51893043000.0, step = 1501 (0.370 sec)\n",
      "INFO:tensorflow:global_step/sec: 300.203\n",
      "INFO:tensorflow:loss = 167163850000.0, step = 1601 (0.342 sec)\n",
      "INFO:tensorflow:global_step/sec: 285.662\n",
      "INFO:tensorflow:loss = 142967420000.0, step = 1701 (0.341 sec)\n",
      "INFO:tensorflow:global_step/sec: 242.778\n",
      "INFO:tensorflow:loss = 203043650000.0, step = 1801 (0.412 sec)\n",
      "INFO:tensorflow:global_step/sec: 346.664\n",
      "INFO:tensorflow:loss = 44019433000.0, step = 1901 (0.291 sec)\n",
      "INFO:tensorflow:global_step/sec: 273.411\n",
      "INFO:tensorflow:loss = 131150970000.0, step = 2001 (0.367 sec)\n",
      "INFO:tensorflow:global_step/sec: 350.586\n",
      "INFO:tensorflow:loss = 134393150000.0, step = 2101 (0.286 sec)\n",
      "INFO:tensorflow:global_step/sec: 268.812\n",
      "INFO:tensorflow:loss = 79058800000.0, step = 2201 (0.371 sec)\n",
      "INFO:tensorflow:global_step/sec: 363.517\n",
      "INFO:tensorflow:loss = 160237880000.0, step = 2301 (0.276 sec)\n",
      "INFO:tensorflow:global_step/sec: 346.332\n",
      "INFO:tensorflow:loss = 36624210000.0, step = 2401 (0.291 sec)\n",
      "INFO:tensorflow:global_step/sec: 333.544\n",
      "INFO:tensorflow:loss = 133876965000.0, step = 2501 (0.295 sec)\n",
      "INFO:tensorflow:global_step/sec: 348.359\n",
      "INFO:tensorflow:loss = 104971600000.0, step = 2601 (0.287 sec)\n",
      "INFO:tensorflow:global_step/sec: 257.724\n",
      "INFO:tensorflow:loss = 112088736000.0, step = 2701 (0.392 sec)\n",
      "INFO:tensorflow:global_step/sec: 265.318\n",
      "INFO:tensorflow:loss = 51873055000.0, step = 2801 (0.377 sec)\n",
      "INFO:tensorflow:global_step/sec: 238.714\n",
      "INFO:tensorflow:loss = 222723230000.0, step = 2901 (0.412 sec)\n",
      "INFO:tensorflow:global_step/sec: 365.892\n",
      "INFO:tensorflow:loss = 95415980000.0, step = 3001 (0.281 sec)\n",
      "INFO:tensorflow:global_step/sec: 348.15\n",
      "INFO:tensorflow:loss = 90315850000.0, step = 3101 (0.285 sec)\n",
      "INFO:tensorflow:global_step/sec: 359.42\n",
      "INFO:tensorflow:loss = 76458450000.0, step = 3201 (0.273 sec)\n",
      "INFO:tensorflow:global_step/sec: 352.379\n",
      "INFO:tensorflow:loss = 164560930000.0, step = 3301 (0.290 sec)\n",
      "INFO:tensorflow:global_step/sec: 319.808\n",
      "INFO:tensorflow:loss = 79826450000.0, step = 3401 (0.315 sec)\n",
      "INFO:tensorflow:global_step/sec: 294.906\n",
      "INFO:tensorflow:loss = 47431170000.0, step = 3501 (0.336 sec)\n",
      "INFO:tensorflow:global_step/sec: 303.369\n",
      "INFO:tensorflow:loss = 241188730000.0, step = 3601 (0.334 sec)\n",
      "INFO:tensorflow:global_step/sec: 305.694\n",
      "INFO:tensorflow:loss = 44055085000.0, step = 3701 (0.319 sec)\n",
      "INFO:tensorflow:global_step/sec: 362.592\n",
      "INFO:tensorflow:loss = 40698032000.0, step = 3801 (0.281 sec)\n",
      "INFO:tensorflow:global_step/sec: 346.11\n",
      "INFO:tensorflow:loss = 131901210000.0, step = 3901 (0.287 sec)\n",
      "INFO:tensorflow:global_step/sec: 361.974\n",
      "INFO:tensorflow:loss = 54610760000.0, step = 4001 (0.278 sec)\n",
      "INFO:tensorflow:global_step/sec: 366.92\n",
      "INFO:tensorflow:loss = 157634770000.0, step = 4101 (0.267 sec)\n",
      "INFO:tensorflow:global_step/sec: 367.277\n",
      "INFO:tensorflow:loss = 238384000000.0, step = 4201 (0.279 sec)\n",
      "INFO:tensorflow:global_step/sec: 367.431\n",
      "INFO:tensorflow:loss = 137488470000.0, step = 4301 (0.275 sec)\n",
      "INFO:tensorflow:global_step/sec: 360.694\n",
      "INFO:tensorflow:loss = 53775684000.0, step = 4401 (0.267 sec)\n",
      "INFO:tensorflow:global_step/sec: 386.607\n",
      "INFO:tensorflow:loss = 174842840000.0, step = 4501 (0.262 sec)\n",
      "INFO:tensorflow:global_step/sec: 255.451\n",
      "INFO:tensorflow:loss = 98987710000.0, step = 4601 (0.390 sec)\n",
      "INFO:tensorflow:global_step/sec: 360.474\n",
      "INFO:tensorflow:loss = 105016120000.0, step = 4701 (0.277 sec)\n",
      "INFO:tensorflow:global_step/sec: 381.953\n",
      "INFO:tensorflow:loss = 28594740000.0, step = 4801 (0.265 sec)\n",
      "INFO:tensorflow:global_step/sec: 385.646\n",
      "INFO:tensorflow:loss = 141561430000.0, step = 4901 (0.252 sec)\n",
      "INFO:tensorflow:global_step/sec: 403.464\n",
      "INFO:tensorflow:loss = 133001855000.0, step = 5001 (0.253 sec)\n",
      "INFO:tensorflow:global_step/sec: 377.294\n",
      "INFO:tensorflow:loss = 82890310000.0, step = 5101 (0.265 sec)\n",
      "INFO:tensorflow:global_step/sec: 385.644\n",
      "INFO:tensorflow:loss = 154242420000.0, step = 5201 (0.260 sec)\n",
      "INFO:tensorflow:global_step/sec: 385.644\n",
      "INFO:tensorflow:loss = 111317180000.0, step = 5301 (0.255 sec)\n",
      "INFO:tensorflow:global_step/sec: 397.886\n",
      "INFO:tensorflow:loss = 102689830000.0, step = 5401 (0.251 sec)\n",
      "INFO:tensorflow:global_step/sec: 381.245\n",
      "INFO:tensorflow:loss = 60082740000.0, step = 5501 (0.263 sec)\n",
      "INFO:tensorflow:global_step/sec: 273.134\n",
      "INFO:tensorflow:loss = 73998100000.0, step = 5601 (0.366 sec)\n",
      "INFO:tensorflow:global_step/sec: 286.939\n",
      "INFO:tensorflow:loss = 83533455000.0, step = 5701 (0.351 sec)\n",
      "INFO:tensorflow:global_step/sec: 322.912\n",
      "INFO:tensorflow:loss = 114879870000.0, step = 5801 (0.311 sec)\n",
      "INFO:tensorflow:global_step/sec: 337.601\n",
      "INFO:tensorflow:loss = 54840450000.0, step = 5901 (0.293 sec)\n",
      "INFO:tensorflow:global_step/sec: 347.193\n",
      "INFO:tensorflow:loss = 287222300000.0, step = 6001 (0.294 sec)\n",
      "INFO:tensorflow:global_step/sec: 333.765\n",
      "INFO:tensorflow:loss = 167877410000.0, step = 6101 (0.303 sec)\n",
      "INFO:tensorflow:global_step/sec: 293.186\n",
      "INFO:tensorflow:loss = 242505190000.0, step = 6201 (0.334 sec)\n",
      "INFO:tensorflow:global_step/sec: 283.373\n",
      "INFO:tensorflow:loss = 41113710000.0, step = 6301 (0.359 sec)\n",
      "INFO:tensorflow:global_step/sec: 332.37\n",
      "INFO:tensorflow:loss = 136775500000.0, step = 6401 (0.298 sec)\n",
      "INFO:tensorflow:global_step/sec: 309.135\n",
      "INFO:tensorflow:loss = 120368720000.0, step = 6501 (0.319 sec)\n"
     ]
    },
    {
     "name": "stdout",
     "output_type": "stream",
     "text": [
      "INFO:tensorflow:global_step/sec: 350.589\n",
      "INFO:tensorflow:loss = 138381980000.0, step = 6601 (0.283 sec)\n",
      "INFO:tensorflow:global_step/sec: 357.445\n",
      "INFO:tensorflow:loss = 94914200000.0, step = 6701 (0.284 sec)\n",
      "INFO:tensorflow:global_step/sec: 315.391\n",
      "INFO:tensorflow:loss = 20612624000.0, step = 6801 (0.313 sec)\n",
      "INFO:tensorflow:global_step/sec: 369.989\n",
      "INFO:tensorflow:loss = 135402520000.0, step = 6901 (0.271 sec)\n",
      "INFO:tensorflow:global_step/sec: 370.652\n",
      "INFO:tensorflow:loss = 195130020000.0, step = 7001 (0.272 sec)\n",
      "INFO:tensorflow:global_step/sec: 274.413\n",
      "INFO:tensorflow:loss = 34262655000.0, step = 7101 (0.363 sec)\n",
      "INFO:tensorflow:global_step/sec: 289.357\n",
      "INFO:tensorflow:loss = 27358917000.0, step = 7201 (0.346 sec)\n",
      "INFO:tensorflow:global_step/sec: 353.057\n",
      "INFO:tensorflow:loss = 95313986000.0, step = 7301 (0.284 sec)\n",
      "INFO:tensorflow:global_step/sec: 349.326\n",
      "INFO:tensorflow:loss = 49332863000.0, step = 7401 (0.282 sec)\n",
      "INFO:tensorflow:global_step/sec: 333.844\n",
      "INFO:tensorflow:loss = 74914990000.0, step = 7501 (0.301 sec)\n",
      "INFO:tensorflow:global_step/sec: 350.584\n",
      "INFO:tensorflow:loss = 106301465000.0, step = 7601 (0.292 sec)\n",
      "INFO:tensorflow:global_step/sec: 310.358\n",
      "INFO:tensorflow:loss = 130751060000.0, step = 7701 (0.321 sec)\n",
      "INFO:tensorflow:global_step/sec: 293.177\n",
      "INFO:tensorflow:loss = 109542646000.0, step = 7801 (0.337 sec)\n",
      "INFO:tensorflow:global_step/sec: 289.246\n",
      "INFO:tensorflow:loss = 203293800000.0, step = 7901 (0.349 sec)\n",
      "INFO:tensorflow:global_step/sec: 284.043\n",
      "INFO:tensorflow:loss = 134820274000.0, step = 8001 (0.352 sec)\n",
      "INFO:tensorflow:global_step/sec: 299.687\n",
      "INFO:tensorflow:loss = 137776040000.0, step = 8101 (0.332 sec)\n",
      "INFO:tensorflow:global_step/sec: 324.671\n",
      "INFO:tensorflow:loss = 52986683000.0, step = 8201 (0.313 sec)\n",
      "INFO:tensorflow:global_step/sec: 311.389\n",
      "INFO:tensorflow:loss = 49152905000.0, step = 8301 (0.315 sec)\n",
      "INFO:tensorflow:global_step/sec: 335.836\n",
      "INFO:tensorflow:loss = 167106510000.0, step = 8401 (0.300 sec)\n",
      "INFO:tensorflow:global_step/sec: 331.224\n",
      "INFO:tensorflow:loss = 82988670000.0, step = 8501 (0.301 sec)\n",
      "INFO:tensorflow:global_step/sec: 371.36\n",
      "INFO:tensorflow:loss = 75481820000.0, step = 8601 (0.268 sec)\n",
      "INFO:tensorflow:global_step/sec: 365.856\n",
      "INFO:tensorflow:loss = 137737810000.0, step = 8701 (0.270 sec)\n",
      "INFO:tensorflow:global_step/sec: 343.147\n",
      "INFO:tensorflow:loss = 112761110000.0, step = 8801 (0.294 sec)\n",
      "INFO:tensorflow:global_step/sec: 372.742\n",
      "INFO:tensorflow:loss = 122498880000.0, step = 8901 (0.267 sec)\n",
      "INFO:tensorflow:global_step/sec: 359.38\n",
      "INFO:tensorflow:loss = 68060246000.0, step = 9001 (0.282 sec)\n",
      "INFO:tensorflow:global_step/sec: 377.126\n",
      "INFO:tensorflow:loss = 37591654000.0, step = 9101 (0.265 sec)\n",
      "INFO:tensorflow:global_step/sec: 354.748\n",
      "INFO:tensorflow:loss = 53692570000.0, step = 9201 (0.279 sec)\n",
      "INFO:tensorflow:global_step/sec: 359.381\n",
      "INFO:tensorflow:loss = 143066500000.0, step = 9301 (0.277 sec)\n",
      "INFO:tensorflow:global_step/sec: 350.586\n",
      "INFO:tensorflow:loss = 96898720000.0, step = 9401 (0.284 sec)\n",
      "INFO:tensorflow:global_step/sec: 372.741\n",
      "INFO:tensorflow:loss = 29269553000.0, step = 9501 (0.273 sec)\n",
      "INFO:tensorflow:global_step/sec: 354.382\n",
      "INFO:tensorflow:loss = 181652880000.0, step = 9601 (0.282 sec)\n",
      "INFO:tensorflow:global_step/sec: 359.827\n",
      "INFO:tensorflow:loss = 105369320000.0, step = 9701 (0.275 sec)\n",
      "INFO:tensorflow:global_step/sec: 371.509\n",
      "INFO:tensorflow:loss = 64741585000.0, step = 9801 (0.269 sec)\n",
      "INFO:tensorflow:global_step/sec: 341.609\n",
      "INFO:tensorflow:loss = 116354800000.0, step = 9901 (0.292 sec)\n",
      "INFO:tensorflow:global_step/sec: 337.602\n",
      "INFO:tensorflow:loss = 126367870000.0, step = 10001 (0.299 sec)\n",
      "INFO:tensorflow:global_step/sec: 353.764\n",
      "INFO:tensorflow:loss = 97062740000.0, step = 10101 (0.281 sec)\n",
      "INFO:tensorflow:global_step/sec: 354.475\n",
      "INFO:tensorflow:loss = 210880180000.0, step = 10201 (0.283 sec)\n",
      "INFO:tensorflow:global_step/sec: 363.174\n",
      "INFO:tensorflow:loss = 99335870000.0, step = 10301 (0.273 sec)\n",
      "INFO:tensorflow:global_step/sec: 365.94\n",
      "INFO:tensorflow:loss = 48425447000.0, step = 10401 (0.275 sec)\n",
      "INFO:tensorflow:global_step/sec: 369.99\n",
      "INFO:tensorflow:loss = 58565595000.0, step = 10501 (0.268 sec)\n",
      "INFO:tensorflow:global_step/sec: 326.603\n",
      "INFO:tensorflow:loss = 73027680000.0, step = 10601 (0.305 sec)\n",
      "INFO:tensorflow:global_step/sec: 353.66\n",
      "INFO:tensorflow:loss = 288717400000.0, step = 10701 (0.283 sec)\n",
      "INFO:tensorflow:global_step/sec: 366.552\n",
      "INFO:tensorflow:loss = 73284320000.0, step = 10801 (0.276 sec)\n",
      "INFO:tensorflow:global_step/sec: 289.336\n",
      "INFO:tensorflow:loss = 65967825000.0, step = 10901 (0.348 sec)\n",
      "INFO:tensorflow:global_step/sec: 314.797\n",
      "INFO:tensorflow:loss = 33531214000.0, step = 11001 (0.313 sec)\n",
      "INFO:tensorflow:global_step/sec: 360.394\n",
      "INFO:tensorflow:loss = 213937030000.0, step = 11101 (0.282 sec)\n",
      "INFO:tensorflow:global_step/sec: 337.6\n",
      "INFO:tensorflow:loss = 50335597000.0, step = 11201 (0.294 sec)\n",
      "INFO:tensorflow:global_step/sec: 312.744\n",
      "INFO:tensorflow:loss = 121975920000.0, step = 11301 (0.319 sec)\n",
      "INFO:tensorflow:global_step/sec: 327.261\n",
      "INFO:tensorflow:loss = 77771416000.0, step = 11401 (0.305 sec)\n",
      "INFO:tensorflow:global_step/sec: 360.674\n",
      "INFO:tensorflow:loss = 93917960000.0, step = 11501 (0.281 sec)\n",
      "INFO:tensorflow:global_step/sec: 330.342\n",
      "INFO:tensorflow:loss = 82688880000.0, step = 11601 (0.298 sec)\n",
      "INFO:tensorflow:global_step/sec: 252.88\n",
      "INFO:tensorflow:loss = 184337500000.0, step = 11701 (0.396 sec)\n",
      "INFO:tensorflow:global_step/sec: 368.302\n",
      "INFO:tensorflow:loss = 115543060000.0, step = 11801 (0.270 sec)\n",
      "INFO:tensorflow:global_step/sec: 378.36\n",
      "INFO:tensorflow:loss = 45325170000.0, step = 11901 (0.267 sec)\n",
      "INFO:tensorflow:global_step/sec: 374.137\n",
      "INFO:tensorflow:loss = 88542310000.0, step = 12001 (0.267 sec)\n",
      "INFO:tensorflow:global_step/sec: 384.164\n",
      "INFO:tensorflow:loss = 81831944000.0, step = 12101 (0.258 sec)\n",
      "INFO:tensorflow:global_step/sec: 363.932\n",
      "INFO:tensorflow:loss = 75054230000.0, step = 12201 (0.277 sec)\n",
      "INFO:tensorflow:global_step/sec: 383.369\n",
      "INFO:tensorflow:loss = 123704660000.0, step = 12301 (0.260 sec)\n",
      "INFO:tensorflow:global_step/sec: 369.27\n",
      "INFO:tensorflow:loss = 182564930000.0, step = 12401 (0.271 sec)\n",
      "INFO:tensorflow:global_step/sec: 375.541\n",
      "INFO:tensorflow:loss = 123073640000.0, step = 12501 (0.267 sec)\n",
      "INFO:tensorflow:global_step/sec: 376.95\n",
      "INFO:tensorflow:loss = 144932270000.0, step = 12601 (0.262 sec)\n",
      "INFO:tensorflow:global_step/sec: 365.568\n",
      "INFO:tensorflow:loss = 27523686000.0, step = 12701 (0.277 sec)\n",
      "INFO:tensorflow:global_step/sec: 337.282\n",
      "INFO:tensorflow:loss = 137359490000.0, step = 12801 (0.297 sec)\n",
      "INFO:tensorflow:global_step/sec: 360.439\n",
      "INFO:tensorflow:loss = 113785930000.0, step = 12901 (0.277 sec)\n",
      "INFO:tensorflow:global_step/sec: 352.994\n",
      "INFO:tensorflow:loss = 49321345000.0, step = 13001 (0.281 sec)\n",
      "INFO:tensorflow:global_step/sec: 326.059\n",
      "INFO:tensorflow:loss = 171548740000.0, step = 13101 (0.315 sec)\n",
      "INFO:tensorflow:global_step/sec: 314.317\n",
      "INFO:tensorflow:loss = 150099530000.0, step = 13201 (0.315 sec)\n",
      "INFO:tensorflow:global_step/sec: 307.547\n",
      "INFO:tensorflow:loss = 75980110000.0, step = 13301 (0.319 sec)\n",
      "INFO:tensorflow:global_step/sec: 231.564\n",
      "INFO:tensorflow:loss = 27290585000.0, step = 13401 (0.443 sec)\n",
      "INFO:tensorflow:global_step/sec: 215.6\n",
      "INFO:tensorflow:loss = 62602850000.0, step = 13501 (0.459 sec)\n",
      "INFO:tensorflow:global_step/sec: 340.455\n",
      "INFO:tensorflow:loss = 71034225000.0, step = 13601 (0.288 sec)\n",
      "INFO:tensorflow:global_step/sec: 362.619\n",
      "INFO:tensorflow:loss = 66313010000.0, step = 13701 (0.278 sec)\n",
      "INFO:tensorflow:global_step/sec: 246.898\n",
      "INFO:tensorflow:loss = 131611770000.0, step = 13801 (0.405 sec)\n",
      "INFO:tensorflow:global_step/sec: 349.843\n",
      "INFO:tensorflow:loss = 140318430000.0, step = 13901 (0.290 sec)\n",
      "INFO:tensorflow:global_step/sec: 382.136\n",
      "INFO:tensorflow:loss = 95689550000.0, step = 14001 (0.256 sec)\n",
      "INFO:tensorflow:global_step/sec: 371.378\n",
      "INFO:tensorflow:loss = 43263400000.0, step = 14101 (0.272 sec)\n",
      "INFO:tensorflow:global_step/sec: 353.704\n",
      "INFO:tensorflow:loss = 124021660000.0, step = 14201 (0.282 sec)\n",
      "INFO:tensorflow:global_step/sec: 360.013\n",
      "INFO:tensorflow:loss = 186448040000.0, step = 14301 (0.277 sec)\n",
      "INFO:tensorflow:global_step/sec: 366.823\n",
      "INFO:tensorflow:loss = 58593400000.0, step = 14401 (0.276 sec)\n"
     ]
    },
    {
     "name": "stdout",
     "output_type": "stream",
     "text": [
      "INFO:tensorflow:global_step/sec: 358.099\n",
      "INFO:tensorflow:loss = 45246288000.0, step = 14501 (0.275 sec)\n",
      "INFO:tensorflow:global_step/sec: 247.799\n",
      "INFO:tensorflow:loss = 156294480000.0, step = 14601 (0.409 sec)\n",
      "INFO:tensorflow:global_step/sec: 360.36\n",
      "INFO:tensorflow:loss = 72636130000.0, step = 14701 (0.273 sec)\n",
      "INFO:tensorflow:global_step/sec: 349.572\n",
      "INFO:tensorflow:loss = 170532110000.0, step = 14801 (0.286 sec)\n",
      "INFO:tensorflow:global_step/sec: 311.865\n",
      "INFO:tensorflow:loss = 115541570000.0, step = 14901 (0.328 sec)\n",
      "INFO:tensorflow:global_step/sec: 346.929\n",
      "INFO:tensorflow:loss = 151164900000.0, step = 15001 (0.284 sec)\n",
      "INFO:tensorflow:global_step/sec: 341.23\n",
      "INFO:tensorflow:loss = 32638294000.0, step = 15101 (0.295 sec)\n",
      "INFO:tensorflow:global_step/sec: 224.276\n",
      "INFO:tensorflow:loss = 161796360000.0, step = 15201 (0.440 sec)\n",
      "INFO:tensorflow:global_step/sec: 300.191\n",
      "INFO:tensorflow:loss = 78526860000.0, step = 15301 (0.335 sec)\n",
      "INFO:tensorflow:global_step/sec: 250.748\n",
      "INFO:tensorflow:loss = 58016580000.0, step = 15401 (0.399 sec)\n",
      "INFO:tensorflow:global_step/sec: 346.947\n",
      "INFO:tensorflow:loss = 40701880000.0, step = 15501 (0.289 sec)\n",
      "INFO:tensorflow:global_step/sec: 370.083\n",
      "INFO:tensorflow:loss = 45111796000.0, step = 15601 (0.269 sec)\n",
      "INFO:tensorflow:global_step/sec: 332.621\n",
      "INFO:tensorflow:loss = 35934327000.0, step = 15701 (0.302 sec)\n",
      "INFO:tensorflow:global_step/sec: 353.863\n",
      "INFO:tensorflow:loss = 115216155000.0, step = 15801 (0.282 sec)\n",
      "INFO:tensorflow:global_step/sec: 337.053\n",
      "INFO:tensorflow:loss = 90505716000.0, step = 15901 (0.302 sec)\n",
      "INFO:tensorflow:global_step/sec: 346.302\n",
      "INFO:tensorflow:loss = 231567590000.0, step = 16001 (0.282 sec)\n",
      "INFO:tensorflow:global_step/sec: 322.962\n",
      "INFO:tensorflow:loss = 69868100000.0, step = 16101 (0.314 sec)\n",
      "INFO:tensorflow:global_step/sec: 357.698\n",
      "INFO:tensorflow:loss = 87288660000.0, step = 16201 (0.278 sec)\n",
      "INFO:tensorflow:global_step/sec: 390.144\n",
      "INFO:tensorflow:loss = 114281366000.0, step = 16301 (0.255 sec)\n",
      "INFO:tensorflow:global_step/sec: 328.746\n",
      "INFO:tensorflow:loss = 79362570000.0, step = 16401 (0.305 sec)\n",
      "INFO:tensorflow:global_step/sec: 282.442\n",
      "INFO:tensorflow:loss = 78737965000.0, step = 16501 (0.357 sec)\n",
      "INFO:tensorflow:global_step/sec: 334.212\n",
      "INFO:tensorflow:loss = 129153380000.0, step = 16601 (0.294 sec)\n",
      "INFO:tensorflow:global_step/sec: 305.727\n",
      "INFO:tensorflow:loss = 46869504000.0, step = 16701 (0.328 sec)\n",
      "INFO:tensorflow:global_step/sec: 302.922\n",
      "INFO:tensorflow:loss = 105585010000.0, step = 16801 (0.334 sec)\n",
      "INFO:tensorflow:global_step/sec: 348.11\n",
      "INFO:tensorflow:loss = 26472380000.0, step = 16901 (0.284 sec)\n",
      "INFO:tensorflow:global_step/sec: 381.246\n",
      "INFO:tensorflow:loss = 76562740000.0, step = 17001 (0.269 sec)\n",
      "INFO:tensorflow:global_step/sec: 364.499\n",
      "INFO:tensorflow:loss = 100015420000.0, step = 17101 (0.272 sec)\n",
      "INFO:tensorflow:global_step/sec: 398.653\n",
      "INFO:tensorflow:loss = 84684825000.0, step = 17201 (0.250 sec)\n",
      "INFO:tensorflow:global_step/sec: 397.626\n",
      "INFO:tensorflow:loss = 65241354000.0, step = 17301 (0.246 sec)\n",
      "INFO:tensorflow:global_step/sec: 386.901\n",
      "INFO:tensorflow:loss = 61059523000.0, step = 17401 (0.260 sec)\n",
      "INFO:tensorflow:global_step/sec: 315.308\n",
      "INFO:tensorflow:loss = 97368490000.0, step = 17501 (0.322 sec)\n",
      "INFO:tensorflow:global_step/sec: 350.586\n",
      "INFO:tensorflow:loss = 133214250000.0, step = 17601 (0.280 sec)\n",
      "INFO:tensorflow:global_step/sec: 297.071\n",
      "INFO:tensorflow:loss = 68498956000.0, step = 17701 (0.335 sec)\n",
      "INFO:tensorflow:global_step/sec: 393.214\n",
      "INFO:tensorflow:loss = 156000010000.0, step = 17801 (0.257 sec)\n",
      "INFO:tensorflow:global_step/sec: 365.253\n",
      "INFO:tensorflow:loss = 66102670000.0, step = 17901 (0.275 sec)\n",
      "INFO:tensorflow:global_step/sec: 272.082\n",
      "INFO:tensorflow:loss = 86893910000.0, step = 18001 (0.367 sec)\n",
      "INFO:tensorflow:global_step/sec: 386.372\n",
      "INFO:tensorflow:loss = 264801700000.0, step = 18101 (0.262 sec)\n",
      "INFO:tensorflow:global_step/sec: 390.149\n",
      "INFO:tensorflow:loss = 124947560000.0, step = 18201 (0.251 sec)\n",
      "INFO:tensorflow:global_step/sec: 362.611\n",
      "INFO:tensorflow:loss = 76546080000.0, step = 18301 (0.282 sec)\n",
      "INFO:tensorflow:global_step/sec: 374.313\n",
      "INFO:tensorflow:loss = 136658846000.0, step = 18401 (0.261 sec)\n",
      "INFO:tensorflow:global_step/sec: 381.236\n",
      "INFO:tensorflow:loss = 78849890000.0, step = 18501 (0.262 sec)\n",
      "INFO:tensorflow:global_step/sec: 381.957\n",
      "INFO:tensorflow:loss = 124871620000.0, step = 18601 (0.261 sec)\n",
      "INFO:tensorflow:global_step/sec: 387.133\n",
      "INFO:tensorflow:loss = 69291590000.0, step = 18701 (0.264 sec)\n",
      "INFO:tensorflow:global_step/sec: 400.576\n",
      "INFO:tensorflow:loss = 111491670000.0, step = 18801 (0.245 sec)\n",
      "INFO:tensorflow:global_step/sec: 404.397\n",
      "INFO:tensorflow:loss = 133850350000.0, step = 18901 (0.250 sec)\n",
      "INFO:tensorflow:global_step/sec: 387.967\n",
      "INFO:tensorflow:loss = 67821390000.0, step = 19001 (0.259 sec)\n",
      "INFO:tensorflow:global_step/sec: 391.671\n",
      "INFO:tensorflow:loss = 192188550000.0, step = 19101 (0.250 sec)\n",
      "INFO:tensorflow:global_step/sec: 421.293\n",
      "INFO:tensorflow:loss = 39289143000.0, step = 19201 (0.238 sec)\n",
      "INFO:tensorflow:global_step/sec: 417.888\n",
      "INFO:tensorflow:loss = 148926680000.0, step = 19301 (0.238 sec)\n",
      "INFO:tensorflow:global_step/sec: 387.147\n",
      "INFO:tensorflow:loss = 104314500000.0, step = 19401 (0.265 sec)\n",
      "INFO:tensorflow:global_step/sec: 396.807\n",
      "INFO:tensorflow:loss = 56371690000.0, step = 19501 (0.246 sec)\n",
      "INFO:tensorflow:global_step/sec: 386.37\n",
      "INFO:tensorflow:loss = 44129477000.0, step = 19601 (0.259 sec)\n",
      "INFO:tensorflow:global_step/sec: 387.133\n",
      "INFO:tensorflow:loss = 44147090000.0, step = 19701 (0.261 sec)\n",
      "INFO:tensorflow:global_step/sec: 381.244\n",
      "INFO:tensorflow:loss = 158197190000.0, step = 19801 (0.261 sec)\n",
      "INFO:tensorflow:global_step/sec: 269.536\n",
      "INFO:tensorflow:loss = 56692634000.0, step = 19901 (0.373 sec)\n",
      "INFO:tensorflow:Saving checkpoints for 20000 into C:\\Users\\kaushaab\\AppData\\Local\\Temp\\tmpu09j02dj\\model.ckpt.\n",
      "INFO:tensorflow:Loss for final step: 55648940000.0.\n"
     ]
    },
    {
     "data": {
      "text/plain": [
       "<tensorflow.python.estimator.canned.dnn.DNNRegressor at 0x21437dd7ba8>"
      ]
     },
     "execution_count": 24,
     "metadata": {},
     "output_type": "execute_result"
    }
   ],
   "source": [
    "model.train(input_fn=input_func,steps=20000)"
   ]
  },
  {
   "cell_type": "code",
   "execution_count": 25,
   "metadata": {},
   "outputs": [],
   "source": [
    "predict_input_func = tf.estimator.inputs.pandas_input_fn(x=x_test,batch_size=10,num_epochs=1,shuffle=True)"
   ]
  },
  {
   "cell_type": "code",
   "execution_count": 26,
   "metadata": {},
   "outputs": [],
   "source": [
    "pre_gen = model.predict(input_fn=predict_input_func)"
   ]
  },
  {
   "cell_type": "code",
   "execution_count": 27,
   "metadata": {},
   "outputs": [
    {
     "name": "stdout",
     "output_type": "stream",
     "text": [
      "INFO:tensorflow:Calling model_fn.\n",
      "INFO:tensorflow:Done calling model_fn.\n",
      "INFO:tensorflow:Graph was finalized.\n",
      "INFO:tensorflow:Restoring parameters from C:\\Users\\kaushaab\\AppData\\Local\\Temp\\tmpu09j02dj\\model.ckpt-20000\n",
      "INFO:tensorflow:Running local_init_op.\n",
      "INFO:tensorflow:Done running local_init_op.\n"
     ]
    }
   ],
   "source": [
    "predictions = list(pre_gen)"
   ]
  },
  {
   "cell_type": "code",
   "execution_count": 28,
   "metadata": {},
   "outputs": [],
   "source": [
    "final_pred = []\n",
    "\n",
    "for pred in predictions:\n",
    "    final_pred.append(pred['predictions'])"
   ]
  },
  {
   "cell_type": "code",
   "execution_count": 29,
   "metadata": {},
   "outputs": [],
   "source": [
    "from sklearn.metrics import mean_squared_error"
   ]
  },
  {
   "cell_type": "code",
   "execution_count": 32,
   "metadata": {},
   "outputs": [
    {
     "data": {
      "text/plain": [
       "121903.6950036297"
      ]
     },
     "execution_count": 32,
     "metadata": {},
     "output_type": "execute_result"
    }
   ],
   "source": [
    "mean_squared_error(y_test,final_pred)**0.5"
   ]
  },
  {
   "cell_type": "code",
   "execution_count": null,
   "metadata": {},
   "outputs": [],
   "source": []
  }
 ],
 "metadata": {
  "kernelspec": {
   "display_name": "Python 3",
   "language": "python",
   "name": "python3"
  },
  "language_info": {
   "codemirror_mode": {
    "name": "ipython",
    "version": 3
   },
   "file_extension": ".py",
   "mimetype": "text/x-python",
   "name": "python",
   "nbconvert_exporter": "python",
   "pygments_lexer": "ipython3",
   "version": "3.6.7"
  }
 },
 "nbformat": 4,
 "nbformat_minor": 2
}
